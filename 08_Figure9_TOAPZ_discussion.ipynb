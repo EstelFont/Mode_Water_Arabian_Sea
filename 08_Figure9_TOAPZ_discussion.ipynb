{
 "cells": [
  {
   "cell_type": "code",
   "execution_count": 1,
   "id": "243141e3-73d1-4fff-94d8-b9efc70bd3d0",
   "metadata": {
    "tags": []
   },
   "outputs": [],
   "source": [
    "import xarray as xr\n",
    "import numpy as np\n",
    "import matplotlib.pyplot as plt\n",
    "import pandas as pd\n",
    "import cmocean.cm as cmo\n",
    "import matplotlib.dates as mdates\n",
    "from tqdm.notebook import tqdm\n",
    "from matplotlib.gridspec import GridSpec\n",
    "import matplotlib.colors as cl\n",
    "import gsw\n",
    "import warnings\n",
    "\n",
    "# Suppress all warnings\n",
    "warnings.filterwarnings('ignore')\n",
    "\n",
    "\n",
    "ds_bath=xr.open_dataset('/home/jupyter-estelfont/scratch/estel/datasets/bathymetry/gebco_2023_n30.0_s-5.0_w30.0_e80.0.nc')"
   ]
  },
  {
   "cell_type": "code",
   "execution_count": 2,
   "id": "e1e9764c-784d-41b7-b164-e1af3b94d560",
   "metadata": {
    "tags": []
   },
   "outputs": [],
   "source": [
    "ds_topaz=xr.open_dataset('/home/jupyter-estelfont/common/fridge/TOPAZ_AS_2000_2020/TOPAZ_AS_2000_2020_z_0_250m.nc')\n",
    "pressure_broadcasted = np.transpose(np.broadcast_to(ds_topaz.pressure, (2541, 120, 181, 27)), (0, 3, 1, 2))\n",
    "ds_topaz['pressure_grid']=(('time', 'pressure', 'latitude', 'longitude'), pressure_broadcasted)\n",
    "# \n",
    "ds_topaz_n2_mld=xr.open_dataset('/home/jupyter-estelfont/MWL_chapter/data/subselected_variables_topaz/tropaz_n2_mld.nc')\n",
    "ds_topaz_mwd=xr.open_dataset('/home/jupyter-estelfont/MWL_chapter/data/subselected_variables_topaz/tropaz_mwl.nc')\n",
    "\n",
    "ds_topaz=xr.merge([ds_topaz, ds_topaz_n2_mld, ds_topaz_mwd])\n",
    "ds_topaz['mw_thickness']=ds_topaz.bot_mwl-ds_topaz.bot_mwl\n",
    "\n",
    "del ds_topaz_n2_mld, ds_topaz_mwd"
   ]
  },
  {
   "cell_type": "code",
   "execution_count": 3,
   "id": "e964c72c-154a-459b-b9af-77974f84a82b",
   "metadata": {
    "tags": []
   },
   "outputs": [],
   "source": [
    "# ds_topaz"
   ]
  },
  {
   "cell_type": "code",
   "execution_count": 4,
   "id": "2c13aa7f-04b7-407e-9184-ea5616efbc7a",
   "metadata": {
    "tags": []
   },
   "outputs": [],
   "source": [
    "# ds_topaz['o2_sol']=gsw.O2sol(ds_topaz.abs_salinity, ds_topaz.cons_temp, ds_topaz.pressure, ds_topaz.longitude, ds_topaz.latitude)\n",
    "# ds_topaz['aou']=ds_topaz['o2_sol']-ds_topaz['oxygen_concentration']"
   ]
  },
  {
   "cell_type": "code",
   "execution_count": 5,
   "id": "9e498f66-30bd-437a-a5ef-6f61a88d59c2",
   "metadata": {
    "tags": []
   },
   "outputs": [],
   "source": [
    "dff_presence_1_topaz = ds_topaz.presence_mwl.where(ds_topaz.presence_mwl != 0, np.nan)\n",
    "dff_presence_1_topaz = dff_presence_1_topaz.where(ds_topaz.presence_mwl != 2, np.nan)\n",
    "\n",
    "## only duration\n",
    "dff_presence_2_topaz = ds_topaz.presence_mwl.where(ds_topaz.presence_mwl != 0, np.nan)\n",
    "dff_presence_2_topaz = dff_presence_2_topaz.where(ds_topaz.presence_mwl != 1, np.nan)\n",
    "dff_presence_2_topaz = dff_presence_2_topaz.where(ds_topaz.presence_mwl !=2, 1)\n",
    "\n",
    "# no mode water\n",
    "dff_presence_0_topaz = ds_topaz.presence_mwl.where(ds_topaz.presence_mwl != 1, np.nan)\n",
    "dff_presence_0_topaz = dff_presence_0_topaz.where(ds_topaz.presence_mwl != 2, np.nan)\n",
    "dff_presence_0_topaz = dff_presence_0_topaz.where(ds_topaz.presence_mwl !=0, 1)\n",
    "\n",
    "mskk_topaz=np.nansum([dff_presence_1_topaz, dff_presence_0_topaz], axis=0)\n",
    "mskk_topaz[mskk_topaz==0]=np.nan\n",
    "ds_topaz['msk_presence']=(('latitude', 'longitude','time'), mskk_topaz)\n",
    "\n",
    "# ds_topaz_week_tmwl_msk_group=(ds_topaz.top_mwl*mskk_topaz).groupby('time.week')\n",
    "# ds_topaz_week_bmwl_msk_group=(ds_topaz.bot_mwl*mskk_topaz).groupby('time.week')\n",
    "\n",
    "# ds_topaz_week_tmwl_group=(ds_topaz.top_mwl).groupby('time.week')\n",
    "# ds_topaz_week_tmwl_group=(ds_topaz.top_mwl).groupby('time.week')"
   ]
  },
  {
   "cell_type": "code",
   "execution_count": 6,
   "id": "f0141393-cdb7-48b4-a35b-bb9696808548",
   "metadata": {
    "tags": []
   },
   "outputs": [],
   "source": [
    "# Assuming 'data' is your xarray DataArray with 'latitude' and 'longitude' coordinates\n",
    "R = 6371e3  # Earth radius in meters\n",
    "\n",
    "# Convert latitude and longitude from degrees to radians\n",
    "latitude_rad = np.deg2rad(ds_topaz['latitude'])\n",
    "longitude_rad = np.deg2rad(ds_topaz['longitude'])\n",
    "\n",
    "dlat = np.abs(np.diff(latitude_rad))\n",
    "dlon = np.abs(np.diff(longitude_rad))\n",
    "\n",
    "# For latitudes and longitudes differences, pad the arrays to match the dimensions of latitude and longitude\n",
    "dlat = np.append(dlat, dlat[-1])  # Add an extra element to match the latitude array size\n",
    "dlon = np.append(dlon, dlon[-1])  # Add an extra element to match the longitude array size\n",
    "\n",
    "# Create 2D arrays for latitude and longitude differences\n",
    "dlat_2d, dlon_2d = np.meshgrid(dlat, dlon, indexing='ij')\n",
    "\n",
    "# Calculate the area of each grid cell\n",
    "cell_area = (R**2 * dlat_2d * dlon_2d * np.cos(latitude_rad).values[:, np.newaxis])\n",
    "\n",
    "# Adjust the dimensions if needed to match the data dimensions\n",
    "cell_area = xr.DataArray(cell_area, dims=['latitude', 'longitude'], coords=[ds_topaz.latitude, ds_topaz.longitude])"
   ]
  },
  {
   "cell_type": "markdown",
   "id": "35d18f56-f4b2-432e-b9e5-cab7993db1b8",
   "metadata": {},
   "source": [
    "## OXYGEN CONTENT"
   ]
  },
  {
   "cell_type": "code",
   "execution_count": 8,
   "id": "ee171cc7-6f51-4ef7-a6d0-bdfc5340fd5e",
   "metadata": {
    "tags": []
   },
   "outputs": [],
   "source": [
    "## MASK O2 in SML\n",
    "mld_broadcasted = (ds_topaz.mixed_layer_depth).expand_dims(pressure=ds_topaz.pressure, axis=2)\n",
    "masked_oxy_sml = ds_topaz.oxygen_concentration.where((ds_topaz.pressure <= mld_broadcasted))\n",
    "\n",
    "masked_oxy_0_sml=masked_oxy_sml.fillna(0)\n",
    "_integrate_o2_sml=masked_oxy_0_sml.integrate('pressure')\n",
    "\n",
    "del masked_oxy_sml, masked_oxy_0_sml"
   ]
  },
  {
   "cell_type": "code",
   "execution_count": null,
   "id": "995eca66-10ff-4e62-a1b2-fc2e18df8b01",
   "metadata": {
    "tags": []
   },
   "outputs": [],
   "source": [
    "# _integrate_o2_sml"
   ]
  },
  {
   "cell_type": "code",
   "execution_count": 9,
   "id": "78ef9016-16f3-4d23-96a5-15e8c2e41b64",
   "metadata": {
    "tags": []
   },
   "outputs": [],
   "source": [
    "## MASK O2 in MWL\n",
    "top_broadcasted = (ds_topaz.top_mwl*ds_topaz.msk_presence).expand_dims(pressure=ds_topaz.pressure, axis=2)\n",
    "bot_broadcasted = (ds_topaz.bot_mwl*ds_topaz.msk_presence).expand_dims(pressure=ds_topaz.pressure, axis=2)\n",
    "masked_oxy = ds_topaz.oxygen_concentration.where((ds_topaz.pressure >= top_broadcasted) & (ds_topaz.pressure <= bot_broadcasted))\n",
    "\n",
    "masked_oxy_0=masked_oxy.fillna(0)\n",
    "_integrate_o2=masked_oxy_0.integrate('pressure')\n",
    "\n",
    "del masked_oxy, masked_oxy_0"
   ]
  },
  {
   "cell_type": "code",
   "execution_count": 10,
   "id": "e739ee6a-d573-4a39-aedf-c31fe962264b",
   "metadata": {
    "tags": []
   },
   "outputs": [],
   "source": [
    "## integrate all o2 contetnt\n",
    "ds_topaz['o2_fill']=ds_topaz.oxygen_concentration.fillna(0)\n",
    "o2_topaz_integ=ds_topaz.o2_fill.integrate('pressure')"
   ]
  },
  {
   "cell_type": "markdown",
   "id": "e1056605-8493-47f9-a9d0-52395d11b7c5",
   "metadata": {},
   "source": [
    "## plot"
   ]
  },
  {
   "cell_type": "code",
   "execution_count": 11,
   "id": "373b4b1e-e260-4fc1-bc33-d8637aeedc42",
   "metadata": {
    "tags": []
   },
   "outputs": [],
   "source": [
    "# Multiply the variable by the cell area to weight by area\n",
    "def integrate_lat_lon(ds):\n",
    "    weighted_data = ds * cell_area\n",
    "    integrated_value_heat = weighted_data.sum(dim=['latitude', 'longitude'])\n",
    "    return integrated_value_heat"
   ]
  },
  {
   "cell_type": "code",
   "execution_count": null,
   "id": "84495d85-4e42-43af-8563-6e85eee82d2a",
   "metadata": {
    "tags": []
   },
   "outputs": [],
   "source": [
    "## % contribution annually to all upper o2 content\n",
    "print('% contribution annually to upper o2 content:')\n",
    "\n",
    "print('AS:')\n",
    "print((integrate_lat_lon(_integrate_o2).groupby('time.year').sum()*100/integrate_lat_lon(o2_topaz_integ).groupby('time.year').sum()).mean().values)\n",
    "print((integrate_lat_lon(_integrate_o2).groupby('time.year').sum()*100/integrate_lat_lon(o2_topaz_integ).groupby('time.year').sum()).std().values)\n",
    "\n",
    "print(' NAS:')\n",
    "print((integrate_lat_lon(_integrate_o2.where(_integrate_o2.latitude>20, drop=True)).groupby('time.year').sum()*100/integrate_lat_lon(o2_topaz_integ.where(o2_topaz_integ.latitude>20, drop=True)).groupby('time.year').sum()).mean().values)\n",
    "print((integrate_lat_lon(_integrate_o2.where(_integrate_o2.latitude>20, drop=True)).groupby('time.year').sum()*100/integrate_lat_lon(o2_topaz_integ.where(o2_topaz_integ.latitude>20, drop=True)).groupby('time.year').sum()).std().values)\n",
    "print(' SAS:')\n",
    "print((integrate_lat_lon(_integrate_o2.where(_integrate_o2.latitude<20, drop=True)).groupby('time.year').sum()*100/integrate_lat_lon(o2_topaz_integ.where(o2_topaz_integ.latitude<20, drop=True)).groupby('time.year').sum()).mean().values)\n",
    "print((integrate_lat_lon(_integrate_o2.where(_integrate_o2.latitude<20, drop=True)).groupby('time.year').sum()*100/integrate_lat_lon(o2_topaz_integ.where(o2_topaz_integ.latitude<20, drop=True)).groupby('time.year').sum()).std().values)"
   ]
  },
  {
   "cell_type": "code",
   "execution_count": null,
   "id": "51dfbd66-e318-48d0-a86b-ad0c57e2484b",
   "metadata": {
    "tags": []
   },
   "outputs": [],
   "source": [
    "## % contribution annually to all upper o2 content\n",
    "print('% contribution annually to upper o2 content:')\n",
    "\n",
    "print('AS:')\n",
    "print((integrate_lat_lon(_integrate_o2).groupby('time.year').sum()*100/integrate_lat_lon(_integrate_o2_sml).groupby('time.year').sum()).mean().values)\n",
    "print((integrate_lat_lon(_integrate_o2).groupby('time.year').sum()*100/integrate_lat_lon(_integrate_o2_sml).groupby('time.year').sum()).std().values)\n",
    "\n",
    "print(' NAS:')\n",
    "print((integrate_lat_lon(_integrate_o2.where(_integrate_o2.latitude>20, drop=True)).groupby('time.year').sum()*100/integrate_lat_lon(_integrate_o2_sml.where(_integrate_o2_sml.latitude>20, drop=True)).groupby('time.year').sum()).mean().values)\n",
    "print((integrate_lat_lon(_integrate_o2.where(_integrate_o2.latitude>20, drop=True)).groupby('time.year').sum()*100/integrate_lat_lon(_integrate_o2_sml.where(_integrate_o2_sml.latitude>20, drop=True)).groupby('time.year').sum()).std().values)\n",
    "print(' SAS:')\n",
    "print((integrate_lat_lon(_integrate_o2.where(_integrate_o2.latitude<20, drop=True)).groupby('time.year').sum()*100/integrate_lat_lon(_integrate_o2_sml.where(_integrate_o2_sml.latitude<20, drop=True)).groupby('time.year').sum()).mean().values)\n",
    "print((integrate_lat_lon(_integrate_o2.where(_integrate_o2.latitude<20, drop=True)).groupby('time.year').sum()*100/integrate_lat_lon(_integrate_o2_sml.where(_integrate_o2_sml.latitude<20, drop=True)).groupby('time.year').sum()).std().values)"
   ]
  },
  {
   "cell_type": "code",
   "execution_count": 108,
   "id": "bee90bb2-41d5-482d-9b92-18914867d7c2",
   "metadata": {
    "tags": []
   },
   "outputs": [],
   "source": [
    "# ## % contribution annually to all upper o2 content\n",
    "# print('std contribution season to upper oxy content:')\n",
    "\n",
    "# sea_=['DJF', 'MAM', 'JJA', 'SON']\n",
    "# print('AS:')\n",
    "# for i in sea_:\n",
    "#     print(i)\n",
    "#     print((integrate_lat_lon(_integrate_o2).groupby('time.season')[i]*100/integrate_lat_lon(_integrate_o2_sml).groupby('time.season')[i]).std().values)\n",
    "# print(' NAS:')\n",
    "# for i in sea_:\n",
    "#     print(i)\n",
    "#     print((integrate_lat_lon(_integrate_o2.where(_integrate_o2.latitude>20, drop=True)).groupby('time.season')[i]*100/integrate_lat_lon(_integrate_o2_sml.where(_integrate_o2_sml.latitude>20, drop=True)).groupby('time.season')[i]).std().values)\n",
    "# print(' SAS:')\n",
    "# for i in sea_:\n",
    "#     print(i)\n",
    "#     print((integrate_lat_lon(_integrate_o2.where(_integrate_o2.latitude<20, drop=True)).groupby('time.season')[i]*100/integrate_lat_lon(_integrate_o2_sml.where(_integrate_o2_sml.latitude<20, drop=True)).groupby('time.season')[i]).std().values)\n"
   ]
  },
  {
   "cell_type": "code",
   "execution_count": 107,
   "id": "bd6a8bae-bf30-454d-b20d-6cdf1ede6b32",
   "metadata": {
    "tags": []
   },
   "outputs": [
    {
     "name": "stdout",
     "output_type": "stream",
     "text": [
      "% contribution season to upper oxy content:\n",
      "AS:\n",
      "DJF\n",
      "2.6385041545207732   4.1087959997682955\n",
      "MAM\n",
      "7.412720950847542   4.473333665917775\n",
      "JJA\n",
      "1.603655631132688   1.15271821403091\n",
      "SON\n",
      "3.5954539076802763   2.589602827831748\n",
      " NAS:\n",
      "DJF\n",
      "3.460392392962876   8.239324503021578\n",
      "MAM\n",
      "20.870786633667002   8.89366939200096\n",
      "JJA\n",
      "5.651762357621774   3.3777731933130264\n",
      "SON\n",
      "1.103124251814317   1.2094190918043866\n",
      " SAS:\n",
      "DJF\n",
      "2.5210158362021655   3.698865512482907\n",
      "MAM\n",
      "5.593025382466397   4.017509054232684\n",
      "JJA\n",
      "1.091837860967484   1.2964556746637903\n",
      "SON\n",
      "3.8963890259899774   2.854903213737497\n"
     ]
    }
   ],
   "source": [
    "## % contribution annually to all upper o2 content\n",
    "print('% contribution season to upper oxy content:')\n",
    "\n",
    "sea_=['DJF', 'MAM', 'JJA', 'SON']\n",
    "print('AS:')\n",
    "for i in sea_:\n",
    "    print(i)\n",
    "    print((integrate_lat_lon(_integrate_o2).groupby('time.season')[i]*100/integrate_lat_lon(o2_topaz_integ).groupby('time.season')[i]).mean().values, ' ', (integrate_lat_lon(_integrate_o2).groupby('time.season')[i]*100/integrate_lat_lon(o2_topaz_integ).groupby('time.season')[i]).std().values)\n",
    "print(' NAS:')\n",
    "for i in sea_:\n",
    "    print(i)\n",
    "    print((integrate_lat_lon(_integrate_o2.where(_integrate_o2.latitude>20, drop=True)).groupby('time.season')[i]*100/integrate_lat_lon(o2_topaz_integ.where(o2_topaz_integ.latitude>20, drop=True)).groupby('time.season')[i]).mean().values, ' ',\n",
    "     (integrate_lat_lon(_integrate_o2.where(_integrate_o2.latitude>20, drop=True)).groupby('time.season')[i]*100/integrate_lat_lon(o2_topaz_integ.where(o2_topaz_integ.latitude>20, drop=True)).groupby('time.season')[i]).std().values)\n",
    "          \n",
    "print(' SAS:')\n",
    "for i in sea_:\n",
    "    print(i)\n",
    "    print((integrate_lat_lon(_integrate_o2.where(_integrate_o2.latitude<20, drop=True)).groupby('time.season')[i]*100/integrate_lat_lon(o2_topaz_integ.where(o2_topaz_integ.latitude<20, drop=True)).groupby('time.season')[i]).mean().values, ' ',\n",
    "     (integrate_lat_lon(_integrate_o2.where(_integrate_o2.latitude<20, drop=True)).groupby('time.season')[i]*100/integrate_lat_lon(o2_topaz_integ.where(o2_topaz_integ.latitude<20, drop=True)).groupby('time.season')[i]).std().values)\n",
    "          \n"
   ]
  },
  {
   "cell_type": "code",
   "execution_count": 109,
   "id": "fcf9dcdc-e109-468b-9d74-81f21f87bbac",
   "metadata": {
    "tags": []
   },
   "outputs": [
    {
     "name": "stdout",
     "output_type": "stream",
     "text": [
      "% contribution season to upper oxy content:\n",
      "AS:\n",
      "DJF\n",
      "7.642206523169359   14.11721202987648\n",
      "MAM\n",
      "34.78372549414858   19.60111190290662\n",
      "JJA\n",
      "4.649203925774183   3.837361333923944\n",
      "SON\n",
      "13.455574878938375   10.409828391752745\n",
      " NAS:\n",
      "DJF\n",
      "9.735377098544696   28.138303904134354\n",
      "MAM\n",
      "109.14545394582771   43.989997978248894\n",
      "JJA\n",
      "32.45668724045123   22.93578804416195\n",
      "SON\n",
      "4.595834429342298   5.582417923360862\n",
      " SAS:\n",
      "DJF\n",
      "7.528683977889214   13.066926285508046\n",
      "MAM\n",
      "25.980305259840183   17.54114734434256\n",
      "JJA\n",
      "2.965588650753307   3.8100549216227986\n",
      "SON\n",
      "14.528164178561818   11.43243777794508\n"
     ]
    }
   ],
   "source": [
    "## % contribution annually to all upper o2 content\n",
    "print('% contribution season to upper oxy content:')\n",
    "\n",
    "sea_=['DJF', 'MAM', 'JJA', 'SON']\n",
    "print('AS:')\n",
    "for i in sea_:\n",
    "    print(i)\n",
    "    print((integrate_lat_lon(_integrate_o2).groupby('time.season')[i]*100/integrate_lat_lon(_integrate_o2_sml).groupby('time.season')[i]).mean().values, ' ', \n",
    "    (integrate_lat_lon(_integrate_o2).groupby('time.season')[i]*100/integrate_lat_lon(_integrate_o2_sml).groupby('time.season')[i]).std().values)\n",
    "print(' NAS:')\n",
    "for i in sea_:\n",
    "    print(i)\n",
    "    print((integrate_lat_lon(_integrate_o2.where(_integrate_o2.latitude>20, drop=True)).groupby('time.season')[i]*100/integrate_lat_lon(_integrate_o2_sml.where(_integrate_o2_sml.latitude>20, drop=True)).groupby('time.season')[i]).mean().values, ' ', \n",
    "      (integrate_lat_lon(_integrate_o2.where(_integrate_o2.latitude>20, drop=True)).groupby('time.season')[i]*100/integrate_lat_lon(_integrate_o2_sml.where(_integrate_o2_sml.latitude>20, drop=True)).groupby('time.season')[i]).std().values)\n",
    "         \n",
    "print(' SAS:')\n",
    "for i in sea_:\n",
    "    print(i)\n",
    "    print((integrate_lat_lon(_integrate_o2.where(_integrate_o2.latitude<20, drop=True)).groupby('time.season')[i]*100/integrate_lat_lon(_integrate_o2_sml.where(_integrate_o2_sml.latitude<20, drop=True)).groupby('time.season')[i]).mean().values, ' ', \n",
    "     (integrate_lat_lon(_integrate_o2.where(_integrate_o2.latitude<20, drop=True)).groupby('time.season')[i]*100/integrate_lat_lon(_integrate_o2_sml.where(_integrate_o2_sml.latitude<20, drop=True)).groupby('time.season')[i]).std().values)\n"
   ]
  },
  {
   "cell_type": "code",
   "execution_count": 12,
   "id": "f24a73fb-30c6-4dc7-8669-cd93511f7b15",
   "metadata": {
    "tags": []
   },
   "outputs": [
    {
     "name": "stdout",
     "output_type": "stream",
     "text": [
      "AS:\n"
     ]
    },
    {
     "data": {
      "text/plain": [
       "(0.0, 25.0)"
      ]
     },
     "execution_count": 12,
     "metadata": {},
     "output_type": "execute_result"
    },
    {
     "data": {
      "image/png": "[encoded data removed]",
      "text/plain": [
       "<Figure size 1500x300 with 1 Axes>"
      ]
     },
     "metadata": {},
     "output_type": "display_data"
    }
   ],
   "source": [
    "sea_=['DJF', 'MAM', 'JJA', 'SON', ' ', 'Anual']\n",
    "\n",
    "cn, cs=[\"#a60021\",\n",
    "\"#81a35e\"]\n",
    "\n",
    "plt.figure(figsize=(15,3))\n",
    "plt.subplot(131)\n",
    "contrib_AS=[]\n",
    "contrib_AS_std=[]\n",
    "print('AS:')\n",
    "for i in sea_[:4]:\n",
    "    # print(i)\n",
    "    contrib_AS.append((integrate_lat_lon(_integrate_o2).groupby('time.season')[i]*100/integrate_lat_lon(o2_topaz_integ).groupby('time.season')[i]).mean().values)\n",
    "    contrib_AS_std.append((integrate_lat_lon(_integrate_o2).groupby('time.season')[i]*100/integrate_lat_lon(o2_topaz_integ).groupby('time.season')[i]).std().values)\n",
    "contrib_AS.append(np.array(0))\n",
    "contrib_AS_std.append(np.array(0))\n",
    "\n",
    "contrib_AS.append((integrate_lat_lon(_integrate_o2).groupby('time.year').sum()*100/integrate_lat_lon(o2_topaz_integ).groupby('time.year').sum()).mean().values)\n",
    "contrib_AS_std.append((integrate_lat_lon(_integrate_o2).groupby('time.year').sum()*100/integrate_lat_lon(o2_topaz_integ).groupby('time.year').sum()).std().values)\n",
    "\n",
    "plt.bar(sea_, contrib_AS, color='gray')\n",
    "plt.ylim(0,25)\n"
   ]
  },
  {
   "cell_type": "code",
   "execution_count": 105,
   "id": "df3cde2f-4a03-4db1-9b5d-0369aed3aa96",
   "metadata": {
    "tags": []
   },
   "outputs": [],
   "source": [
    "# sea_=['DJF', 'MAM', 'JJA', 'SON', ' ', 'Anual']\n",
    "\n",
    "# cn, cs=[\"#a60021\",\n",
    "# \"#81a35e\"]\n",
    "\n",
    "# plt.figure(figsize=(15,3))\n",
    "# plt.subplot(131)\n",
    "# contrib_AS=[]\n",
    "# contrib_AS_std=[]\n",
    "# print('AS:')\n",
    "# for i in sea_[:4]:\n",
    "#     # print(i)\n",
    "#     contrib_AS.append((integrate_lat_lon(_integrate_o2).groupby('time.season')[i]*100/integrate_lat_lon(_integrate_o2_sml).groupby('time.season')[i]).mean().values)\n",
    "#     contrib_AS_std.append((integrate_lat_lon(_integrate_o2).groupby('time.season')[i]*100/integrate_lat_lon(_integrate_o2_sml).groupby('time.season')[i]).std().values)\n",
    "# contrib_AS.append(np.array(0))\n",
    "# contrib_AS_std.append(np.array(0))\n",
    "\n",
    "# contrib_AS.append((integrate_lat_lon(_integrate_o2).groupby('time.year').sum()*100/integrate_lat_lon(_integrate_o2_sml).groupby('time.year').sum()).mean().values)\n",
    "# contrib_AS_std.append((integrate_lat_lon(_integrate_o2).groupby('time.year').sum()*100/integrate_lat_lon(_integrate_o2_sml).groupby('time.year').sum()).std().values)\n",
    "\n",
    "# plt.bar(sea_, contrib_AS, color='gray')\n",
    "# plt.ylim(0,100)\n"
   ]
  },
  {
   "cell_type": "code",
   "execution_count": 13,
   "id": "51b37bdd-a655-406c-80c2-3a8bb6557935",
   "metadata": {
    "tags": []
   },
   "outputs": [
    {
     "name": "stdout",
     "output_type": "stream",
     "text": [
      " NAS:\n"
     ]
    },
    {
     "data": {
      "text/plain": [
       "(0.0, 25.0)"
      ]
     },
     "execution_count": 13,
     "metadata": {},
     "output_type": "execute_result"
    },
    {
     "data": {
      "image/png": "[encoded data removed]",
      "text/plain": [
       "<Figure size 640x480 with 1 Axes>"
      ]
     },
     "metadata": {},
     "output_type": "display_data"
    }
   ],
   "source": [
    "plt.subplot(132)\n",
    "contrib_nas=[]\n",
    "contrib_nas_std=[]\n",
    "\n",
    "print(' NAS:')\n",
    "for i in sea_[:4]:\n",
    "    # print(i)\n",
    "    contrib_nas.append((integrate_lat_lon(_integrate_o2.where(_integrate_o2.latitude>20, drop=True)).groupby('time.season')[i]*100/integrate_lat_lon(o2_topaz_integ.where(o2_topaz_integ.latitude>20, drop=True)).groupby('time.season')[i]).mean().values)\n",
    "    contrib_nas_std.append((integrate_lat_lon(_integrate_o2.where(_integrate_o2.latitude>20, drop=True)).groupby('time.season')[i]*100/integrate_lat_lon(o2_topaz_integ.where(o2_topaz_integ.latitude>20, drop=True)).groupby('time.season')[i]).std().values)\n",
    "\n",
    "contrib_nas.append(np.array(0))\n",
    "contrib_nas_std.append(np.array(0))\n",
    "\n",
    "contrib_nas.append((integrate_lat_lon(_integrate_o2.where(_integrate_o2.latitude>20, drop=True)).groupby('time.year').sum()*100/integrate_lat_lon(o2_topaz_integ.where(o2_topaz_integ.latitude>20, drop=True)).groupby('time.year').sum()).mean().values)\n",
    "contrib_nas_std.append((integrate_lat_lon(_integrate_o2.where(_integrate_o2.latitude>20, drop=True)).groupby('time.year').sum()*100/integrate_lat_lon(o2_topaz_integ.where(o2_topaz_integ.latitude>20, drop=True)).groupby('time.year').sum()).std().values)\n",
    "\n",
    "plt.bar(sea_, contrib_nas, color=cn)\n",
    "plt.ylim(0,25)"
   ]
  },
  {
   "cell_type": "code",
   "execution_count": 106,
   "id": "aab0a3f3-2245-4ba3-ab98-53ea14c817b8",
   "metadata": {
    "tags": []
   },
   "outputs": [],
   "source": [
    "# plt.subplot(132)\n",
    "# contrib_nas=[]\n",
    "# contrib_nas_std=[]\n",
    "\n",
    "# print(' NAS:')\n",
    "# for i in sea_[:4]:\n",
    "#     # print(i)\n",
    "#     contrib_nas.append((integrate_lat_lon(_integrate_o2.where(_integrate_o2.latitude>20, drop=True)).groupby('time.season')[i]*100/integrate_lat_lon(_integrate_o2_sml.where(_integrate_o2_sml.latitude>20, drop=True)).groupby('time.season')[i]).mean().values)\n",
    "#     contrib_nas_std.append((integrate_lat_lon(_integrate_o2.where(_integrate_o2.latitude>20, drop=True)).groupby('time.season')[i]*100/integrate_lat_lon(_integrate_o2_sml.where(_integrate_o2_sml.latitude>20, drop=True)).groupby('time.season')[i]).std().values)\n",
    "\n",
    "# contrib_nas.append(np.array(0))\n",
    "# contrib_nas_std.append(np.array(0))\n",
    "\n",
    "# contrib_nas.append((integrate_lat_lon(_integrate_o2.where(_integrate_o2.latitude>20, drop=True)).groupby('time.year').sum()*100/integrate_lat_lon(_integrate_o2_sml.where(_integrate_o2_sml.latitude>20, drop=True)).groupby('time.year').sum()).mean().values)\n",
    "# contrib_nas_std.append((integrate_lat_lon(_integrate_o2.where(_integrate_o2.latitude>20, drop=True)).groupby('time.year').sum()*100/integrate_lat_lon(_integrate_o2_sml.where(_integrate_o2_sml.latitude>20, drop=True)).groupby('time.year').sum()).std().values)\n",
    "\n",
    "# plt.bar(sea_, contrib_nas, color=cn)\n",
    "# plt.ylim(0,50)"
   ]
  },
  {
   "cell_type": "code",
   "execution_count": 91,
   "id": "8cf1fd27-4d60-4735-af06-3bc273bb0ea5",
   "metadata": {
    "tags": []
   },
   "outputs": [
    {
     "data": {
      "text/plain": [
       "[array(28.1383039),\n",
       " array(43.98999798),\n",
       " array(22.93578804),\n",
       " array(5.58241792),\n",
       " array(0),\n",
       " array(5.78706789)]"
      ]
     },
     "execution_count": 91,
     "metadata": {},
     "output_type": "execute_result"
    }
   ],
   "source": [
    "contrib_nas_std"
   ]
  },
  {
   "cell_type": "code",
   "execution_count": 14,
   "id": "803d45aa-340f-4277-983b-32b17eef0970",
   "metadata": {
    "tags": []
   },
   "outputs": [
    {
     "name": "stdout",
     "output_type": "stream",
     "text": [
      " SAS:\n"
     ]
    },
    {
     "data": {
      "text/plain": [
       "(0.0, 25.0)"
      ]
     },
     "execution_count": 14,
     "metadata": {},
     "output_type": "execute_result"
    },
    {
     "data": {
      "image/png": "[encoded data removed]",
      "text/plain": [
       "<Figure size 640x480 with 1 Axes>"
      ]
     },
     "metadata": {},
     "output_type": "display_data"
    }
   ],
   "source": [
    "\n",
    "plt.subplot(133)\n",
    "contrib_sas=[]\n",
    "contrib_sas_std=[]\n",
    "\n",
    "print(' SAS:')\n",
    "for i in sea_[:4]:\n",
    "    # print(i)\n",
    "    contrib_sas.append((integrate_lat_lon(_integrate_o2.where(_integrate_o2.latitude<20, drop=True)).groupby('time.season')[i]*100/integrate_lat_lon(o2_topaz_integ.where(o2_topaz_integ.latitude<20, drop=True)).groupby('time.season')[i]).mean().values)\n",
    "    contrib_sas_std.append((integrate_lat_lon(_integrate_o2.where(_integrate_o2.latitude<20, drop=True)).groupby('time.season')[i]*100/integrate_lat_lon(o2_topaz_integ.where(o2_topaz_integ.latitude<20, drop=True)).groupby('time.season')[i]).std().values)\n",
    "\n",
    "contrib_sas.append(np.array(0))\n",
    "contrib_sas_std.append(np.array(0))\n",
    "\n",
    "contrib_sas.append((integrate_lat_lon(_integrate_o2.where(_integrate_o2.latitude<20, drop=True)).groupby('time.year').sum()*100/integrate_lat_lon(o2_topaz_integ.where(o2_topaz_integ.latitude<20, drop=True)).groupby('time.year').sum()).mean().values)\n",
    "contrib_sas_std.append((integrate_lat_lon(_integrate_o2.where(_integrate_o2.latitude<20, drop=True)).groupby('time.year').sum()*100/integrate_lat_lon(o2_topaz_integ.where(o2_topaz_integ.latitude<20, drop=True)).groupby('time.year').sum()).std().values)\n",
    "\n",
    "plt.bar(sea_, contrib_sas, color=cs)\n",
    "plt.ylim(0,25)"
   ]
  },
  {
   "cell_type": "code",
   "execution_count": 92,
   "id": "81776180-1587-43f9-ba60-9ad00a3a532d",
   "metadata": {
    "tags": []
   },
   "outputs": [
    {
     "name": "stdout",
     "output_type": "stream",
     "text": [
      " SAS:\n"
     ]
    },
    {
     "data": {
      "text/plain": [
       "(0.0, 100.0)"
      ]
     },
     "execution_count": 92,
     "metadata": {},
     "output_type": "execute_result"
    },
    {
     "data": {
      "image/png": "[encoded data removed]",
      "text/plain": [
       "<Figure size 640x480 with 1 Axes>"
      ]
     },
     "metadata": {},
     "output_type": "display_data"
    }
   ],
   "source": [
    "\n",
    "# plt.subplot(133)\n",
    "# contrib_sas=[]\n",
    "# contrib_sas_std=[]\n",
    "\n",
    "# print(' SAS:')\n",
    "# for i in sea_[:4]:\n",
    "#     # print(i)\n",
    "#     contrib_sas.append((integrate_lat_lon(_integrate_o2.where(_integrate_o2.latitude<20, drop=True)).groupby('time.season')[i]*100/integrate_lat_lon(_integrate_o2_sml.where(_integrate_o2_sml.latitude<20, drop=True)).groupby('time.season')[i]).mean().values)\n",
    "#     contrib_sas_std.append((integrate_lat_lon(_integrate_o2.where(_integrate_o2.latitude<20, drop=True)).groupby('time.season')[i]*100/integrate_lat_lon(_integrate_o2_sml.where(_integrate_o2_sml.latitude<20, drop=True)).groupby('time.season')[i]).std().values)\n",
    "\n",
    "# contrib_sas.append(np.array(0))\n",
    "# contrib_sas_std.append(np.array(0))\n",
    "\n",
    "# contrib_sas.append((integrate_lat_lon(_integrate_o2.where(_integrate_o2.latitude<20, drop=True)).groupby('time.year').sum()*100/integrate_lat_lon(_integrate_o2_sml.where(_integrate_o2_sml.latitude<20, drop=True)).groupby('time.year').sum()).mean().values)\n",
    "# contrib_sas_std.append((integrate_lat_lon(_integrate_o2.where(_integrate_o2.latitude<20, drop=True)).groupby('time.year').sum()*100/integrate_lat_lon(_integrate_o2_sml.where(_integrate_o2_sml.latitude<20, drop=True)).groupby('time.year').sum()).std().values)\n",
    "\n",
    "# plt.bar(sea_, contrib_sas, color=cs)\n",
    "# plt.ylim(0,100)"
   ]
  },
  {
   "cell_type": "code",
   "execution_count": 93,
   "id": "35a52d1a-38e0-46cd-a58a-28c2b10ef34f",
   "metadata": {
    "tags": []
   },
   "outputs": [
    {
     "data": {
      "text/plain": [
       "[array(13.06692629),\n",
       " array(17.54114734),\n",
       " array(3.81005492),\n",
       " array(11.43243778),\n",
       " array(0),\n",
       " array(1.29214581)]"
      ]
     },
     "execution_count": 93,
     "metadata": {},
     "output_type": "execute_result"
    }
   ],
   "source": [
    "contrib_sas_std"
   ]
  },
  {
   "cell_type": "code",
   "execution_count": 136,
   "id": "cba12279-4cbe-4bdf-bbbf-cbfba03730ef",
   "metadata": {
    "tags": []
   },
   "outputs": [],
   "source": [
    "all_ = integrate_lat_lon(o2_topaz_integ).groupby('time.week').mean()\n",
    "all_s = integrate_lat_lon(o2_topaz_integ).groupby('time.week').std()\n",
    "mw_=integrate_lat_lon(_integrate_o2).groupby('time.week').mean()\n",
    "mw_s=integrate_lat_lon(_integrate_o2).groupby('time.week').std()"
   ]
  },
  {
   "cell_type": "code",
   "execution_count": 140,
   "id": "bb38eac2-775b-4f16-b02a-4e6ec54209c7",
   "metadata": {
    "tags": []
   },
   "outputs": [],
   "source": [
    "all_=integrate_lat_lon(_integrate_o2_sml.where(_integrate_o2_sml.latitude>20, drop=True)).groupby('time.week').mean()\n",
    "mw_=integrate_lat_lon(_integrate_o2.where(_integrate_o2_sml.latitude>20, drop=True)).groupby('time.week').mean()\n",
    "mw_s=integrate_lat_lon(_integrate_o2.where(_integrate_o2_sml.latitude>20, drop=True)).groupby('time.week').std()\n"
   ]
  },
  {
   "cell_type": "code",
   "execution_count": 142,
   "id": "9b38e8d1-daa6-4297-a311-aa7fecfb5a0f",
   "metadata": {
    "tags": []
   },
   "outputs": [
    {
     "data": {
      "text/plain": [
       "(<xarray.DataArray (week: 53)>\n",
       " array([  0.34015617,   0.46639405,   0.73861701,   1.11059937,\n",
       "          2.61107908,   5.76533755,   9.15578913,  36.61511799,\n",
       "         67.30344115,  84.74826967,  98.14728138, 128.3352192 ,\n",
       "        129.55613385, 125.96185151, 124.57298142, 116.04909575,\n",
       "        106.65158114, 101.80156983,  93.83518082,  83.37925807,\n",
       "         74.36022395,  66.82863017,  58.72334169,  53.05944353,\n",
       "         47.14190459,  41.72036042,  36.48130016,  32.04823587,\n",
       "         27.24376703,  23.04718743,  20.12428813,  17.17856348,\n",
       "         14.69918562,  13.41153324,  11.26687352,   9.33996591,\n",
       "          8.74415654,   7.23909141,   5.8216156 ,   5.62142423,\n",
       "          4.63401634,   3.69306906,   3.44959246,   2.6720971 ,\n",
       "          1.99050674,   1.8471227 ,   1.36013139,   1.02332132,\n",
       "          1.0222283 ,   0.75979924,   0.60327695,   0.63698835,\n",
       "          0.27686288])\n",
       " Coordinates:\n",
       "   * week     (week) int64 1 2 3 4 5 6 7 8 9 10 ... 44 45 46 47 48 49 50 51 52 53,\n",
       " <xarray.DataArray (week: 53)>\n",
       " array([ 0.38117162,  0.5955614 ,  1.12212064,  1.34379882,  3.62946953,\n",
       "        11.54721453, 12.63483476, 27.91828492, 33.30903659, 35.30430587,\n",
       "        30.17391923, 26.87559268, 29.91566629, 31.67722211, 28.69449457,\n",
       "        28.97268546, 30.18441864, 26.61895035, 27.55718105, 26.48878848,\n",
       "        21.86995789, 22.50964254, 21.33131992, 18.35029635, 18.30740033,\n",
       "        17.56217534, 14.61758782, 14.98046731, 14.64056612, 12.34673254,\n",
       "        12.59824609, 11.82948026,  9.93826726, 10.13151303,  9.25604165,\n",
       "         7.65344979,  7.68627942,  6.54198191,  5.56927392,  5.6101085 ,\n",
       "         4.79438816,  4.01123528,  3.79710187,  2.96393924,  2.37315103,\n",
       "         2.23631872,  1.6367399 ,  1.3414133 ,  1.38265578,  0.98451011,\n",
       "         0.83207203,  0.78486989,  0.20296298])\n",
       " Coordinates:\n",
       "   * week     (week) int64 1 2 3 4 5 6 7 8 9 10 ... 44 45 46 47 48 49 50 51 52 53)"
      ]
     },
     "execution_count": 142,
     "metadata": {},
     "output_type": "execute_result"
    }
   ],
   "source": [
    "# mw_.max()*1e-18, mw_s.max()*1e-18\n",
    "\n",
    "(mw_ * 100 / all_)[:], (mw_s * 100 / all_)[:]"
   ]
  },
  {
   "cell_type": "code",
   "execution_count": 16,
   "id": "77d63c02-6469-4231-bc36-8cabd2e89a1a",
   "metadata": {
    "tags": []
   },
   "outputs": [
    {
     "data": {
      "image/png": "[encoded data removed]",
      "text/plain": [
       "<Figure size 1000x500 with 8 Axes>"
      ]
     },
     "metadata": {},
     "output_type": "display_data"
    }
   ],
   "source": [
    "fig=plt.figure(figsize=(10,5), constrained_layout=True)\n",
    "\n",
    "xx,yy=9,5\n",
    "\n",
    "gs = GridSpec(xx,yy, figure=fig)\n",
    "\n",
    "ax1 = fig.add_subplot(gs[0, :])\n",
    "plt.xticks([])\n",
    "ax2 = fig.add_subplot(gs[1:5, :])\n",
    "t=ax1.text(x=.02,y=.65,s=\"(a)\",transform=ax1.transAxes, zorder=120)\n",
    "## OXY\n",
    "# Calculate the mean and standard deviation grouped by the week of the year\n",
    "all_ = integrate_lat_lon(o2_topaz_integ).groupby('time.week').mean()\n",
    "all_s = integrate_lat_lon(o2_topaz_integ).groupby('time.week').std()\n",
    "mw_=integrate_lat_lon(_integrate_o2).groupby('time.week').mean()\n",
    "mw_s=integrate_lat_lon(_integrate_o2).groupby('time.week').std()\n",
    "\n",
    "SF=1e-18\n",
    "\n",
    "# Plot on the first axis (0 to 1e17)\n",
    "ax1.bar(mw_.week, all_*SF, color='silver', alpha=0.5)\n",
    "ax1.bar(mw_.week, mw_*SF, color='midnightblue', alpha=0.5)\n",
    "ax1.errorbar(mw_.week, all_*SF, yerr=all_s*SF,  elinewidth=2, lw=0, color='k')\n",
    "ax1.errorbar(mw_.week, mw_*SF, yerr=mw_s*SF, elinewidth=2, lw=0, color='k')\n",
    "ax1.set_ylim(0.2, 0.25)\n",
    "# ax1.set_xticks([])\n",
    "ax1.spines['bottom'].set_visible(False)\n",
    "# ax1.tick_params(labeltop=False)  # Don't put tick labels at the top axis\n",
    "# \n",
    "# Plot on the second axis (1e17 to 2.5e17)\n",
    "ax2.bar(mw_.week, all_*SF, color='silver', alpha=0.5)\n",
    "ax2.bar(mw_.week, mw_*SF, color='midnightblue', alpha=0.5)\n",
    "ax2.errorbar(mw_.week, all_*SF, yerr=all_s*SF,  elinewidth=2, lw=0, color='k')\n",
    "ax2.errorbar(mw_.week, mw_*SF, yerr=mw_s*SF, elinewidth=2, lw=0, color='k')\n",
    "ax2.set_ylim(0, 0.05)\n",
    "\n",
    "# Hide the spines and create a break in the y-axis\n",
    "ax2.spines['top'].set_visible(False)\n",
    "ax1.tick_params(labeltop=False, bottom=False)\n",
    "ax1.set_xlim(0.5, 53.5) \n",
    "\n",
    "ax2.set_xticks([1,10,20,30,40,50])\n",
    "# ax2.xaxis.tick_bottom()\n",
    "\n",
    "# Diagonal lines to indicate the break in the y-axis\n",
    "d = .005  # Size of the diagonal lines\n",
    "kwargs = dict(transform=ax1.transAxes, color='k', lw=1, clip_on=False)\n",
    "ax1.plot((-d, +d), (-d*1.5, +d*1.5), **kwargs)\n",
    "ax1.plot((1 - d, 1 + d), (-d*1.5, +d*1.5), **kwargs) \n",
    "\n",
    "kwargs.update(transform=ax2.transAxes)  # Switch to the bottom axes\n",
    "ax2.plot((-d, +d), (1 - d, 1 + d), **kwargs)\n",
    "ax2.plot((1 - d, 1 + d), (1 - d, 1 + d), **kwargs)\n",
    "\n",
    "# Set labels and limits\n",
    "ax2.set_ylabel('                       Oxygen Content \\n                     ($Tmol$)')\n",
    "ax2.set_xlim(0.5, 53.5) \n",
    "ax2.set_xlabel('Week')\n",
    "\n",
    "# ax2.set_xticks(all_.week[::3])\n",
    "# ax2.set_xticks(all_.index)\n",
    "\n",
    "ax2_twin = ax2.twinx()\n",
    "\n",
    "as_line_data = (mw_ * 100 / all_)\n",
    "\n",
    "# Plot the line on the secondary y-axis\n",
    "_=ax2_twin.plot(mw_.week, as_line_data, c='k', lw=3, label='AS')\n",
    "\n",
    "all_=integrate_lat_lon(o2_topaz_integ.where(o2_topaz_integ.latitude>20, drop=True)).groupby('time.week').mean()\n",
    "mw_=integrate_lat_lon(_integrate_o2.where(o2_topaz_integ.latitude>20, drop=True)).groupby('time.week').mean()\n",
    "_=ax2_twin.plot(mw_.week, (mw_*100/all_), c='k', lw=3, ls='--', label='NAS')\n",
    "all_=integrate_lat_lon(o2_topaz_integ.where(o2_topaz_integ.latitude<20, drop=True)).groupby('time.week').mean()\n",
    "mw_=integrate_lat_lon(_integrate_o2.where(o2_topaz_integ.latitude<20, drop=True)).groupby('time.week').mean()\n",
    "_=ax2_twin.plot(mw_.week, (mw_*100/all_), c='k', lw=3, ls=':', label='SAS')\n",
    "# plt.legend(ncol=3)\n",
    "\n",
    "# Set labels and limits\n",
    "# ax2.set_ylabel('Oxygen Content (units)')\n",
    "ax2_twin.set_ylabel('MW contribution (%)')  # Label for the secondary y-axis\n",
    "ax2_twin.set_ylim(0,40)\n",
    "# Display the legend for the line plot\n",
    "ax2_twin.legend(loc='upper right')\n",
    "# ax2_twin.spines['bottom'].set_visible(False)\n",
    "ax2_twin.spines['top'].set_visible(False)\n",
    "# Display the plot\n",
    "\n",
    "\n",
    "\n",
    "\n",
    "sea_=['DJF', 'MAM', 'JJA', 'SON', ' ', 'Anual']\n",
    "\n",
    "cn, cs=[\"#a60021\",\n",
    "\"#81a35e\"]\n",
    "# plt.figure(figsize=(12,3))\n",
    "ax1 = fig.add_subplot(gs[5:, 0])\n",
    "ax1.set_title('Annual')\n",
    "ax1.bar(['AS', 'NAS', 'SAS'], [contrib_AS[-1], contrib_nas[-1], contrib_sas[-1]], color=['gray', cn, cs])\n",
    "ax1.errorbar(['AS', 'NAS', 'SAS'], [contrib_AS[-1], contrib_nas[-1], contrib_sas[-1]], yerr=[contrib_AS_std[-1], contrib_nas_std[-1], contrib_sas_std[-1]],  elinewidth=2, lw=0, color='k')\n",
    "\n",
    "ax1.set_ylim(0,32)\n",
    "ax1.set_ylabel('MW contribution (%)')  # Label for the secondary y-axis\n",
    "ax1.text(x=.05,y=.90,s='(b)',transform=ax1.transAxes, zorder=120)\n",
    "\n",
    "let=['(c)','(d)','(e)','(f)']\n",
    "for i in range(len(sea_[:4])):\n",
    "    ax1 = fig.add_subplot(gs[5:, i+1])\n",
    "    ax1.set_title(sea_[i])\n",
    "    ax1.bar(['AS', 'NAS', 'SAS'], [contrib_AS[i], contrib_nas[i], contrib_sas[i]], color=['gray', cn, cs])\n",
    "    ax1.errorbar(['AS', 'NAS', 'SAS'], [contrib_AS[i], contrib_nas[i], contrib_sas[i]], yerr=[contrib_AS_std[i], contrib_nas_std[i], contrib_sas_std[i]],  elinewidth=2, lw=0, color='k')\n",
    "    \n",
    "    ax1.set_ylim(0,32)\n",
    "    ax1.set_yticks([])\n",
    "    t=ax1.text(x=.05,y=.90,s=let[i],transform=ax1.transAxes, zorder=120)\n",
    "\n",
    "plt.savefig('Figures/Figure9_OxygenContent.png', dpi=600, bbox_inches='tight')    "
   ]
  },
  {
   "cell_type": "code",
   "execution_count": 114,
   "id": "d1784956-4792-4197-b0bf-345f875e263f",
   "metadata": {
    "tags": []
   },
   "outputs": [
    {
     "data": {
      "text/plain": [
       "(array(3.8606991),\n",
       " array(8.29481089),\n",
       " array(3.29908091),\n",
       " array(0.43564237),\n",
       " array(1.70508898),\n",
       " array(0.36336504))"
      ]
     },
     "execution_count": 114,
     "metadata": {},
     "output_type": "execute_result"
    }
   ],
   "source": [
    "contrib_AS[-1], contrib_nas[-1], contrib_sas[-1], contrib_AS_std[-1], contrib_nas_std[-1], contrib_sas_std[-1]"
   ]
  },
  {
   "cell_type": "code",
   "execution_count": 76,
   "id": "281e4c06-e49d-4840-b432-ac35bc9e9d66",
   "metadata": {
    "tags": []
   },
   "outputs": [],
   "source": [
    "# integrate_lat_lon(_integrate_o2_sml.where(_integrate_o2_sml.latitude>20, drop=True)).plot()\n",
    "# integrate_lat_lon(_integrate_o2.where(_integrate_o2.latitude>20, drop=True)).plot()"
   ]
  }
 ],
 "metadata": {
  "kernelspec": {
   "display_name": "Python 3 (ipykernel)",
   "language": "python",
   "name": "python3"
  },
  "language_info": {
   "codemirror_mode": {
    "name": "ipython",
    "version": 3
   },
   "file_extension": ".py",
   "mimetype": "text/x-python",
   "name": "python",
   "nbconvert_exporter": "python",
   "pygments_lexer": "ipython3",
   "version": "3.9.7"
  }
 },
 "nbformat": 4,
 "nbformat_minor": 5
}
